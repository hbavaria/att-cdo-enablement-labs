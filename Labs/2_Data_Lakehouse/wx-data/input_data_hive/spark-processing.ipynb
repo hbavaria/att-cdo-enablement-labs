{
 "cells": [
  {
   "cell_type": "code",
   "execution_count": null,
   "id": "b87247d2",
   "metadata": {},
   "outputs": [],
   "source": [
    "from pyspark.sql import SparkSession\n",
    "from pyspark.sql import functions as F"
   ]
  }
 ],
 "metadata": {
  "language_info": {
   "name": "python"
  }
 },
 "nbformat": 4,
 "nbformat_minor": 5
}
